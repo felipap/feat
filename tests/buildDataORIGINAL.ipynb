{
 "cells": [
  {
   "cell_type": "markdown",
   "metadata": {
    "_uuid": "55f0ed2ac468f0eb59c24726ca0c9bdc8884c345"
   },
   "source": [
    "## Info  \n",
    "Derived from https://www.kaggle.com/dlarionov/feature-engineering-xgboost/notebook  \n",
    "And later https://www.kaggle.com/felipes/feature-engineering-xgboost/edit\n",
    "\n",
    "Use with Python 3 (eg. conda_python3)"
   ]
  },
  {
   "cell_type": "markdown",
   "metadata": {
    "_uuid": "2ded528c87107a91c5f36678d794310ba6081fd6"
   },
   "source": [
    "# Build Data"
   ]
  },
  {
   "cell_type": "code",
   "execution_count": 1,
   "metadata": {},
   "outputs": [],
   "source": [
    "# !pip install --upgrade numpy==1.16.1\n",
    "# !pip install --upgrade --force-reinstall pandas==0.23.4\n",
    "# ! conda install numba --yes"
   ]
  },
  {
   "cell_type": "code",
   "execution_count": 2,
   "metadata": {},
   "outputs": [
    {
     "data": {
      "text/plain": [
       "sys.version_info(major=3, minor=6, micro=5, releaselevel='final', serial=0)"
      ]
     },
     "execution_count": 2,
     "metadata": {},
     "output_type": "execute_result"
    }
   ],
   "source": [
    "import numpy as np\n",
    "import pandas as pd\n",
    "import matplotlib.pyplot as plt\n",
    "\n",
    "from itertools import product\n",
    "from sklearn.preprocessing import LabelEncoder\n",
    "from IPython.display import display, HTML\n",
    "\n",
    "import time\n",
    "import sys\n",
    "import gc\n",
    "import pickle\n",
    "\n",
    "pd.set_option('display.max_rows', 30)\n",
    "pd.set_option('display.max_columns', 100)\n",
    "sys.version_info"
   ]
  },
  {
   "cell_type": "markdown",
   "metadata": {},
   "source": [
    "## Helpers\n",
    "\n",
    "### Visualization"
   ]
  },
  {
   "cell_type": "code",
   "execution_count": 3,
   "metadata": {},
   "outputs": [],
   "source": [
    "def plotCountBy(df, by, count):\n",
    "    \"\"\"For each date_block_num, plot the number of 'count'\n",
    "    fields for each 'by' field.\n",
    "\n",
    "    Eg: plot how many unique items each shop sold each month.\"\"\"\n",
    "    \n",
    "    pairs = []\n",
    "    for dtb in df.date_block_num.unique():\n",
    "        group = df[df.date_block_num==dtb].groupby([by])\n",
    "        for nunique in group[count].count().values:\n",
    "            pairs.append([dtb, nunique])\n",
    "    \n",
    "    x, y = zip(*pairs)\n",
    "    fig, ax = plt.subplots(figsize=(15,10))\n",
    "    ax.scatter(x, y, alpha=0.2)\n",
    "    ax.set_ylabel('# unique %s per %s at this date block' % (count, by), fontsize=15)\n",
    "    ax.set_xlabel('Date block', fontsize=10)\n",
    "    \n",
    "    ax.grid(True)\n",
    "    fig.tight_layout()\n",
    "    plt.show()\n",
    "    \n",
    "    \n",
    "def plotCountRecordsBy(df, by):\n",
    "    \"\"\"For each \"by\" records that exist.\n",
    "\n",
    "    Eg: plot how many records exist per shop_id.\"\"\"\n",
    "    \n",
    "    pairs = []\n",
    "    for value in df[by].unique():\n",
    "        pairs.append([value, df[df[by] == value].shape[0]])\n",
    "    \n",
    "    x, y = zip(*pairs)\n",
    "    fig, ax = plt.subplots(figsize=(15,10))\n",
    "    ax.scatter(x, y, color='red')\n",
    "    ax.set_ylabel('# records per %s' % (by), fontsize=15)\n",
    "    ax.set_xlabel('Date block', fontsize=10)\n",
    "    \n",
    "    ax.grid(True)\n",
    "    fig.tight_layout()\n",
    "    plt.show()\n",
    "\n",
    "def plotCountUniqueBy(df, by, count):\n",
    "    \"\"\"For each date_block_num, plot the number of unique 'count'\n",
    "    fields for each 'by' field.\n",
    "\n",
    "    Eg: plot how many unique items each shop sold each month.\"\"\"\n",
    "    \n",
    "    pairs = []\n",
    "    for dtb in df.date_block_num.unique():\n",
    "        group = df[df.date_block_num==dtb].groupby([by])\n",
    "        for nunique in group[count].nunique().values:\n",
    "            pairs.append([dtb, nunique])\n",
    "    \n",
    "    x, y = zip(*pairs)\n",
    "    fig, ax = plt.subplots(figsize=(15,10))\n",
    "    ax.scatter(x, y, alpha=0.2)\n",
    "    ax.set_ylabel('# unique %s per %s at this date block' % (count, by), fontsize=15)\n",
    "    ax.set_xlabel('Date block', fontsize=10)\n",
    "    \n",
    "    ax.grid(True)\n",
    "    fig.tight_layout()\n",
    "    plt.show()"
   ]
  },
  {
   "cell_type": "markdown",
   "metadata": {
    "_uuid": "f03379ee467570732ebb2b3d20062fea0584d57d"
   },
   "source": [
    "# Part 1: Input"
   ]
  },
  {
   "cell_type": "code",
   "execution_count": 9,
   "metadata": {
    "_uuid": "f0a1c729d4fb3d6609f9dfb163ebe92fa9dc654c"
   },
   "outputs": [
    {
     "data": {
      "text/html": [
       "table <strong>train</strong>:"
      ],
      "text/plain": [
       "<IPython.core.display.HTML object>"
      ]
     },
     "metadata": {},
     "output_type": "display_data"
    },
    {
     "name": "stdout",
     "output_type": "stream",
     "text": [
      "columns: date,date_block_num,shop_id,item_id,item_price,item_cnt_day\n",
      "shape: (146789, 6)\n"
     ]
    }
   ],
   "source": [
    "items = pd.read_csv('./input/items.csv')\n",
    "shops = pd.read_csv('./input/shops.csv')\n",
    "cats = pd.read_csv('./input/item_categories.csv')\n",
    "train = pd.read_csv('./input/sales_train.csv')\n",
    "\n",
    "def sampleFromEachDateBlock(df, fraction=0.05):\n",
    "#     grouped = df.groupby('shop_id', as_index=False)\n",
    "    grouped = df.groupby('date_block_num', as_index=False)\n",
    "    return grouped.apply(lambda x: x.sample(frac=fraction))\n",
    "\n",
    "# _train = _train[_train.date_block_num==33]\n",
    "\n",
    "# WARNING: There can be many unintended consequences of this. For instance,\n",
    "# sampling breaks the original way of creating lagging features, because\n",
    "# that supposes each entry (prod, shop) will exist for every block time,\n",
    "# which won't be the case after running this.\n",
    "_train = pd.read_csv('./input/sales_train.csv')\n",
    "train = sampleFromEachDateBlock(_train)\n",
    "\n",
    "# set index to ID to avoid droping it later\n",
    "test = pd.read_csv('./input/test.csv').set_index('ID')\n",
    "\n",
    "display(HTML(\"table <strong>train</strong>:\"))\n",
    "print(\"columns:\", \",\". join(train.columns.values))\n",
    "print(\"shape:\", train.shape)"
   ]
  },
  {
   "cell_type": "markdown",
   "metadata": {},
   "source": [
    "### Structure of train"
   ]
  },
  {
   "cell_type": "markdown",
   "metadata": {},
   "source": [
    "Number of records by date_block_num is decreasing."
   ]
  },
  {
   "cell_type": "code",
   "execution_count": 10,
   "metadata": {},
   "outputs": [
    {
     "data": {
      "image/png": "[encoded data removed]",
      "text/plain": [
       "<Figure size 1080x720 with 1 Axes>"
      ]
     },
     "metadata": {},
     "output_type": "display_data"
    }
   ],
   "source": [
    "plotCountRecordsBy(train, 'date_block_num')"
   ]
  },
  {
   "cell_type": "markdown",
   "metadata": {
    "_uuid": "ed7a190645750a818e29a6291ba2553a91764c7c"
   },
   "source": [
    "## Outliers"
   ]
  },
  {
   "cell_type": "markdown",
   "metadata": {
    "_uuid": "425d8f2dc08378977b393bf80c5fdcf0fba2c992"
   },
   "source": [
    "There are items with strange prices and sales. After detailed exploration I decided to remove items with price > 100000 and sales > 1001 (1000 is ok)."
   ]
  },
  {
   "cell_type": "code",
   "execution_count": 11,
   "metadata": {},
   "outputs": [],
   "source": [
    "# import seaborn as sns\n",
    "# %matplotlib inline\n",
    "\n",
    "# def plot_features(booster, figsize):    \n",
    "#     fig, ax = plt.subplots(1,1,figsize=figsize)\n",
    "#     return plot_importance(booster=booster, ax=ax)\n",
    "\n",
    "# plt.figure(figsize=(10,4))\n",
    "# plt.xlim(train.item_price.min(), train.item_price.max()*1.1)\n",
    "# sns.boxplot(x=train.item_price)"
   ]
  },
  {
   "cell_type": "code",
   "execution_count": 12,
   "metadata": {
    "_uuid": "5a864412fafc3129a3e9bd5bb1f18a7cf0c62935"
   },
   "outputs": [
    {
     "data": {
      "image/png": "[encoded data removed]",
      "text/plain": [
       "<Figure size 1080x720 with 1 Axes>"
      ]
     },
     "metadata": {},
     "output_type": "display_data"
    }
   ],
   "source": [
    "\n",
    "plotCountUniqueBy(train, 'shop_id', 'item_id')\n",
    "# plotCountUniqueBy(train, 'item_id', 'shop_id')\n"
   ]
  },
  {
   "cell_type": "code",
   "execution_count": 13,
   "metadata": {
    "_uuid": "7e621535d112603c60aeb2c2f83dbbf96d36b732"
   },
   "outputs": [],
   "source": [
    "train = train[train.item_price<100000]\n",
    "train = train[train.item_cnt_day<1001]"
   ]
  },
  {
   "cell_type": "markdown",
   "metadata": {
    "_uuid": "d2f99368478e3063b1c379537944e954d7186928"
   },
   "source": [
    "There is one item with price below zero. Fill it with median."
   ]
  },
  {
   "cell_type": "code",
   "execution_count": 14,
   "metadata": {
    "_uuid": "0fc6b90b22fe232f4240ac8f965cc52b3db5526a"
   },
   "outputs": [],
   "source": [
    "median = train[(train.shop_id==32)&(train.item_id==2973)&(train.date_block_num==4)&(train.item_price>0)].item_price.median()\n",
    "train.loc[train.item_price<0, 'item_price'] = median"
   ]
  },
  {
   "cell_type": "markdown",
   "metadata": {
    "_uuid": "7da194c285d696b5c6978148bf0143b9b2a7b0c5"
   },
   "source": [
    "Several shops are duplicates of each other (according to its name). Fix train and test set."
   ]
  },
  {
   "cell_type": "code",
   "execution_count": 15,
   "metadata": {
    "_uuid": "00fe91e9c482ea413abd774ff903fe3d152785dd"
   },
   "outputs": [],
   "source": [
    "# Якутск Орджоникидзе, 56\n",
    "train.loc[train.shop_id == 0, 'shop_id'] = 57\n",
    "test.loc[test.shop_id == 0, 'shop_id'] = 57\n",
    "# Якутск ТЦ \"Центральный\"\n",
    "train.loc[train.shop_id == 1, 'shop_id'] = 58\n",
    "test.loc[test.shop_id == 1, 'shop_id'] = 58\n",
    "# Жуковский ул. Чкалова 39м²\n",
    "train.loc[train.shop_id == 10, 'shop_id'] = 11\n",
    "test.loc[test.shop_id == 10, 'shop_id'] = 11"
   ]
  },
  {
   "cell_type": "markdown",
   "metadata": {
    "_uuid": "a30f0521464e1fa20444e66d24bbdcb76b93f6de"
   },
   "source": [
    "## Shops/Cats/Items preprocessing\n",
    "Observations:\n",
    "* Each shop_name starts with the city name.\n",
    "* Each category contains type and subtype in its name."
   ]
  },
  {
   "cell_type": "code",
   "execution_count": 16,
   "metadata": {
    "_uuid": "12fae4c8d0c8f3e817307d1e0ffc6831e9a8d696"
   },
   "outputs": [],
   "source": [
    "shops.loc[shops.shop_name == 'Сергиев Посад ТЦ \"7Я\"', 'shop_name'] = 'СергиевПосад ТЦ \"7Я\"'\n",
    "shops['city'] = shops['shop_name'].str.split(' ').map(lambda x: x[0])\n",
    "shops.loc[shops.city == '!Якутск', 'city'] = 'Якутск'\n",
    "shops['city_code'] = LabelEncoder().fit_transform(shops['city'])\n",
    "shops = shops[['shop_id','city_code']]\n",
    "\n",
    "cats['split'] = cats['item_category_name'].str.split('-')\n",
    "cats['type'] = cats['split'].map(lambda x: x[0].strip())\n",
    "cats['type_code'] = LabelEncoder().fit_transform(cats['type'])\n",
    "# if subtype is nan then type\n",
    "cats['subtype'] = cats['split'].map(lambda x: x[1].strip() if len(x) > 1 else x[0].strip())\n",
    "cats['subtype_code'] = LabelEncoder().fit_transform(cats['subtype'])\n",
    "cats = cats[['item_category_id','type_code', 'subtype_code']]\n",
    "\n",
    "items.drop(['item_name'], axis=1, inplace=True) #!!!"
   ]
  },
  {
   "cell_type": "code",
   "execution_count": 17,
   "metadata": {
    "_uuid": "685923924c5ee146bbca26ded392924303d6da0c"
   },
   "outputs": [],
   "source": [
    "test['date_block_num'] = 34\n",
    "test['date_block_num'] = test['date_block_num'].astype(np.int8)\n",
    "test['shop_id'] = test['shop_id'].astype(np.int8)\n",
    "test['item_id'] = test['item_id'].astype(np.int16)\n",
    "\n",
    "train['revenue'] = (train['item_price'] *  train['item_cnt_day']).astype('int64')\n",
    "\n",
    "pd.set_option('max_rows', 7)"
   ]
  },
  {
   "cell_type": "markdown",
   "metadata": {
    "_uuid": "62c5f83fa222595da99294f465ab28e80ce415e9"
   },
   "source": [
    "## Build matrix scaffold\n",
    "\n",
    "Basic structure of our training matrix needs to be `date_block_num x shop_id x item_id = item_ctn_month`, but train only contains such rows for which `item_ctn_month` isn't zero.\n",
    "\n",
    "Test set is a product of some shops and some items within 34 month. There are 5100 items * 42 shops = 214200 pairs. 363 items are new compared to the train. Hence, for the most of the items in the test set target value should be zero. \n",
    "In the other hand train set contains only pairs which were sold or returned in the past. Tha main idea is to calculate monthly sales and <b>extend it with zero sales</b> for each unique pair within the month. This way train data will be similar to test data."
   ]
  },
  {
   "cell_type": "code",
   "execution_count": 18,
   "metadata": {
    "_uuid": "7626c7455ea71b65894c6c866519df15080fa2ac"
   },
   "outputs": [
    {
     "name": "stdout",
     "output_type": "stream",
     "text": [
      "CPU times: user 3.24 s, sys: 134 ms, total: 3.38 s\n",
      "Wall time: 3.38 s\n"
     ]
    }
   ],
   "source": [
    "%%time\n",
    "#felipap: for each month, matrix contains a product of unique shop_ids x unique item_ids in it.\n",
    "\n",
    "m2 = []\n",
    "cols = ['date_block_num','shop_id','item_id']\n",
    "\n",
    "# lesum = 0 # felipap\n",
    "for i in range(34):\n",
    "    sales = train[train.date_block_num==i]\n",
    "    assert(len(sales))\n",
    "    # lesum += len(sales.shop_id.unique()) * len(sales.item_id.unique()) # felipap\n",
    "    m2.append(np.array(list(product([i], sales.shop_id.unique(), sales.item_id.unique())), dtype='int16'))\n",
    "\n",
    "matrix = pd.DataFrame(np.vstack(m2), columns=cols)\n",
    "matrix['date_block_num'] = matrix['date_block_num'].astype(np.int8)\n",
    "matrix['shop_id'] = matrix['shop_id'].astype(np.int8)\n",
    "matrix['item_id'] = matrix['item_id'].astype(np.int16)\n",
    "matrix.sort_values(cols,inplace=True)"
   ]
  },
  {
   "cell_type": "markdown",
   "metadata": {},
   "source": [
    "# `matrix` structure\n",
    "\n",
    "We create matrix such that, for each date block, every shop has the same number of records"
   ]
  },
  {
   "cell_type": "code",
   "execution_count": 19,
   "metadata": {},
   "outputs": [
    {
     "data": {
      "image/png": "[encoded data removed]",
      "text/plain": [
       "<Figure size 1080x720 with 1 Axes>"
      ]
     },
     "metadata": {},
     "output_type": "display_data"
    }
   ],
   "source": [
    "plotCountBy(matrix, 'shop_id', 'item_id')"
   ]
  },
  {
   "cell_type": "markdown",
   "metadata": {
    "_uuid": "867e91a7570dd78b4834f4f1a166e58f80b63f93"
   },
   "source": [
    "Aggregate train set by shop/item pairs to calculate target aggreagates, then <b>clip(0,20)</b> target value. This way train target will be similar to the test predictions.\n",
    "\n",
    "<i>I use floats instead of ints for item_cnt_month to avoid downcasting it after concatination with the test set later. If it would be int16, after concatination with NaN values it becomes int64, but foat16 becomes float16 even with NaNs.</i>"
   ]
  },
  {
   "cell_type": "code",
   "execution_count": 20,
   "metadata": {
    "_uuid": "7dd27181918fc7df89676e24d72130d183929d2d"
   },
   "outputs": [
    {
     "name": "stdout",
     "output_type": "stream",
     "text": [
      "                               item_cnt_day\n",
      "                                        sum\n",
      "date_block_num shop_id item_id             \n",
      "0              2       534              1.0\n",
      "                       785              1.0\n",
      "                       1007             1.0\n",
      "...                                     ...\n",
      "33             59      19291            1.0\n",
      "                       19672            1.0\n",
      "                       20949            1.0\n",
      "\n",
      "[137221 rows x 1 columns]\n",
      "CPU times: user 1.06 s, sys: 104 ms, total: 1.16 s\n",
      "Wall time: 1.16 s\n"
     ]
    }
   ],
   "source": [
    "%%time\n",
    "\n",
    "# felipap: using 'train', which lists demand by day ('date' attr), sum up to create 'group', which lists total demand that month\n",
    "\n",
    "group = train.groupby(['date_block_num','shop_id','item_id']).agg({'item_cnt_day': ['sum']})\n",
    "print(group)\n",
    "group.columns = ['item_cnt_month']\n",
    "group.reset_index(inplace=True)\n",
    "\n",
    "# felipap: add item_ctn_month column to 'matrix'\n",
    "matrix = pd.merge(matrix, group, on=cols, how='left')\n",
    "matrix['item_cnt_month'] = (matrix['item_cnt_month']\n",
    "                                .fillna(0)\n",
    "                                .clip(0,20) # NB clip target here\n",
    "                                .astype(np.float16))"
   ]
  },
  {
   "cell_type": "code",
   "execution_count": 21,
   "metadata": {
    "_uuid": "177fbbab94c8057d67d61357d29581248468a74d"
   },
   "outputs": [
    {
     "name": "stdout",
     "output_type": "stream",
     "text": [
      "CPU times: user 19.6 ms, sys: 0 ns, total: 19.6 ms\n",
      "Wall time: 18.7 ms\n"
     ]
    }
   ],
   "source": [
    "%%time\n",
    "\n",
    "# felipap: use pd.concat to add to 'matrix' the (shop_id, item_id) rows that exist in test,\n",
    "# but didn't exist in train (which is where the date in 'matrix' comes from so far).\n",
    "# These items (which only exist in train), whill have item_cnt_month = 'NaN', so fill them up with zeroes.\n",
    "\n",
    "matrix = pd.concat([matrix, test], ignore_index=True, sort=False, keys=cols)\n",
    "matrix.fillna(0, inplace=True) # 34 month"
   ]
  },
  {
   "cell_type": "markdown",
   "metadata": {
    "_uuid": "233e394a6cebf36ef002dc76fef8d430026a52b3"
   },
   "source": [
    "## Shops/Items/Cats features"
   ]
  },
  {
   "cell_type": "code",
   "execution_count": 22,
   "metadata": {
    "_uuid": "7dfd5df3e2bcaee4c312f3979736f52c40f2560f"
   },
   "outputs": [
    {
     "name": "stdout",
     "output_type": "stream",
     "text": [
      "CPU times: user 1.29 s, sys: 144 ms, total: 1.43 s\n",
      "Wall time: 1.43 s\n"
     ]
    }
   ],
   "source": [
    "%%time\n",
    "\n",
    "# felipap: fill in matrix the extra columns from items.csv and shops.csv\n",
    "\n",
    "matrix = pd.merge(matrix, shops, on=['shop_id'], how='left')\n",
    "matrix = pd.merge(matrix, items, on=['item_id'], how='left')\n",
    "matrix = pd.merge(matrix, cats, on=['item_category_id'], how='left')\n",
    "matrix['city_code'] = matrix['city_code'].astype(np.int8)\n",
    "matrix['item_category_id'] = matrix['item_category_id'].astype(np.int8)\n",
    "matrix['type_code'] = matrix['type_code'].astype(np.int8)\n",
    "matrix['subtype_code'] = matrix['subtype_code'].astype(np.int8)\n",
    "\n",
    "matrix = matrix[matrix.date_block_num<34]"
   ]
  },
  {
   "cell_type": "markdown",
   "metadata": {
    "_uuid": "8358b291fdc8e0e7d1b5700974803b3f104715f7"
   },
   "source": [
    "## Target lags"
   ]
  },
  {
   "cell_type": "markdown",
   "metadata": {
    "_uuid": "c67bf4dbcef884ffe9d19c65d37bc4de1f287ef6"
   },
   "source": [
    "---\n",
    "\n",
    "# Mean encoded features"
   ]
  },
  {
   "cell_type": "code",
   "execution_count": 23,
   "metadata": {
    "_uuid": "763aca242154ea10fa0a62fffadb4ef90e9532d6"
   },
   "outputs": [
    {
     "name": "stdout",
     "output_type": "stream",
     "text": [
      "CPU times: user 3 µs, sys: 1 µs, total: 4 µs\n",
      "Wall time: 6.44 µs\n"
     ]
    }
   ],
   "source": [
    "%%time\n",
    "\n",
    "# TODO: rewrite variable names\n",
    "\n",
    "def formFeat(pivot, fn, obj):\n",
    "    return '%s(%s|%s)' % (fn, obj, ','.join(pivot))\n",
    "\n",
    "def lagFeature(df, lags, lagCol, pivot):\n",
    "    assert \"date_block_num\" in pivot\n",
    "    \n",
    "    wantedCols = list(set(pivot)|set([lagCol]))\n",
    "    \n",
    "    for i in lags:\n",
    "        shifted = df[wantedCols].copy()\n",
    "        # felipap: take all the rows, rename the 'item_ctn_month' to col_lag_X, and\n",
    "        # merge it with the rows of i blocks in the future.\n",
    "        # col_lag_X will mean: X months ago, the value was this.\n",
    "        shifted.rename(columns={ lagCol: '%s_LAG_%s' % (lagCol, i)}, inplace=True)\n",
    "        shifted['date_block_num'] += i\n",
    "        df = pd.merge(df, shifted, on=list(pivot), how='left')\n",
    "    return df\n",
    "\n",
    "\n",
    "def createGroupBy(source, pivot, config):\n",
    "    ts = time.time()\n",
    "    \n",
    "    \n",
    "    agg = source.groupby(pivot).agg(config)\n",
    "    \n",
    "    # TODO: change format to eg. fn(item_ctn_month|date_block_num,type_code)\n",
    "    agg.columns = [\n",
    "        formFeat(pivot, col[1], col[0])\n",
    "        for col in agg.columns.values\n",
    "    ]\n",
    "    \n",
    "#     for col in agg.columns:\n",
    "#         agg[col] = agg[col].astype(np.float16)\n",
    "    \n",
    "    agg.reset_index(inplace=True)\n",
    "    return agg\n"
   ]
  },
  {
   "cell_type": "code",
   "execution_count": 44,
   "metadata": {},
   "outputs": [
    {
     "name": "stdout",
     "output_type": "stream",
     "text": [
      "CPU times: user 5 µs, sys: 0 ns, total: 5 µs\n",
      "Wall time: 8.58 µs\n"
     ]
    }
   ],
   "source": [
    "%%time\n",
    "\n",
    "def predictAggColumnName(aggCol, function, pivots):\n",
    "    return \"%s(%s|%s)\" % (function, aggCol, ','.join(pivots))\n",
    "\n",
    "def execGroupFeature(feature, source):\n",
    "    pivot = feature[\"pivot\"]\n",
    "    \n",
    "    newColName = predictAggColumnName(feature[\"aggregate\"], feature[\"function\"], pivot)\n",
    "    \n",
    "    aggArgs = { feature[\"aggregate\"]: [feature[\"function\"]] }\n",
    "    grouped = createGroupBy(source, pivot, aggArgs)\n",
    "    \n",
    "    assert newColName in list(grouped.columns.values), \\\n",
    "        \"newColName %s not in %s\" % (newColName, grouped.columns.values)\n",
    "    \n",
    "    if feature.get(\"lags\", False):\n",
    "        grouped = lagFeature(grouped, feature[\"lags\"], newColName, pivot)\n",
    "\n",
    "    if feature.get(\"dropMain\", False):\n",
    "        assert feature.get(\"lags\", False), \"Can't dropMain unless we are lagging.\"\n",
    "        grouped.drop(newColName, axis=1, inplace=True)\n",
    "    \n",
    "    return grouped"
   ]
  },
  {
   "cell_type": "code",
   "execution_count": 45,
   "metadata": {},
   "outputs": [
    {
     "name": "stdout",
     "output_type": "stream",
     "text": [
      "\n",
      "generating 0/11\n",
      "\n",
      "generating 1/11\n",
      "\n",
      "generating 2/11\n",
      "\n",
      "generating 3/11\n",
      "\n",
      "generating 4/11\n",
      "\n",
      "generating 5/11\n",
      "\n",
      "generating 6/11\n",
      "\n",
      "generating 7/11\n",
      "\n",
      "generating 8/11\n",
      "\n",
      "generating 9/11\n",
      "\n",
      "generating 10/11\n"
     ]
    },
    {
     "data": {
      "text/html": [
       "<div>\n",
       "<style scoped>\n",
       "    .dataframe tbody tr th:only-of-type {\n",
       "        vertical-align: middle;\n",
       "    }\n",
       "\n",
       "    .dataframe tbody tr th {\n",
       "        vertical-align: top;\n",
       "    }\n",
       "\n",
       "    .dataframe thead th {\n",
       "        text-align: right;\n",
       "    }\n",
       "</style>\n",
       "<table border=\"1\" class=\"dataframe\">\n",
       "  <thead>\n",
       "    <tr style=\"text-align: right;\">\n",
       "      <th></th>\n",
       "      <th>date_block_num</th>\n",
       "      <th>shop_id</th>\n",
       "      <th>item_id</th>\n",
       "      <th>item_cnt_month</th>\n",
       "      <th>city_code</th>\n",
       "      <th>item_category_id</th>\n",
       "      <th>type_code</th>\n",
       "      <th>subtype_code</th>\n",
       "      <th>mean(item_cnt_month|date_block_num)_LAG_1</th>\n",
       "      <th>mean(item_cnt_month|date_block_num,item_id)_LAG_1</th>\n",
       "      <th>mean(item_cnt_month|date_block_num,item_id)_LAG_2</th>\n",
       "      <th>mean(item_cnt_month|date_block_num,item_id)_LAG_3</th>\n",
       "      <th>mean(item_cnt_month|date_block_num,item_id)_LAG_6</th>\n",
       "      <th>mean(item_cnt_month|date_block_num,item_id)_LAG_12</th>\n",
       "      <th>mean(item_cnt_month|date_block_num,shop_id)_LAG_1</th>\n",
       "      <th>mean(item_cnt_month|date_block_num,shop_id)_LAG_2</th>\n",
       "      <th>mean(item_cnt_month|date_block_num,shop_id)_LAG_3</th>\n",
       "      <th>mean(item_cnt_month|date_block_num,shop_id)_LAG_6</th>\n",
       "      <th>mean(item_cnt_month|date_block_num,shop_id)_LAG_12</th>\n",
       "      <th>mean(item_cnt_month|date_block_num,item_category_id)_LAG_1</th>\n",
       "      <th>mean(item_cnt_month|date_block_num,shop_id,item_category_id)_LAG_1</th>\n",
       "      <th>mean(item_cnt_month|date_block_num,shop_id,type_code)_LAG_1</th>\n",
       "      <th>mean(item_cnt_month|date_block_num,shop_id,subtype_code)_LAG_1</th>\n",
       "      <th>mean(item_cnt_month|date_block_num,city_code)_LAG_1</th>\n",
       "      <th>mean(item_cnt_month|date_block_num,item_id,city_code)_LAG_1</th>\n",
       "      <th>mean(item_cnt_month|date_block_num,type_code)_LAG_1</th>\n",
       "      <th>mean(item_cnt_month|date_block_num,subtype_code)_LAG_1</th>\n",
       "    </tr>\n",
       "  </thead>\n",
       "  <tbody>\n",
       "    <tr>\n",
       "      <th>0</th>\n",
       "      <td>0</td>\n",
       "      <td>2</td>\n",
       "      <td>32</td>\n",
       "      <td>0.0</td>\n",
       "      <td>0</td>\n",
       "      <td>40</td>\n",
       "      <td>11</td>\n",
       "      <td>4</td>\n",
       "      <td>NaN</td>\n",
       "      <td>NaN</td>\n",
       "      <td>NaN</td>\n",
       "      <td>NaN</td>\n",
       "      <td>NaN</td>\n",
       "      <td>NaN</td>\n",
       "      <td>NaN</td>\n",
       "      <td>NaN</td>\n",
       "      <td>NaN</td>\n",
       "      <td>NaN</td>\n",
       "      <td>NaN</td>\n",
       "      <td>NaN</td>\n",
       "      <td>NaN</td>\n",
       "      <td>NaN</td>\n",
       "      <td>NaN</td>\n",
       "      <td>NaN</td>\n",
       "      <td>NaN</td>\n",
       "      <td>NaN</td>\n",
       "      <td>NaN</td>\n",
       "    </tr>\n",
       "    <tr>\n",
       "      <th>1</th>\n",
       "      <td>0</td>\n",
       "      <td>2</td>\n",
       "      <td>33</td>\n",
       "      <td>0.0</td>\n",
       "      <td>0</td>\n",
       "      <td>37</td>\n",
       "      <td>11</td>\n",
       "      <td>1</td>\n",
       "      <td>NaN</td>\n",
       "      <td>NaN</td>\n",
       "      <td>NaN</td>\n",
       "      <td>NaN</td>\n",
       "      <td>NaN</td>\n",
       "      <td>NaN</td>\n",
       "      <td>NaN</td>\n",
       "      <td>NaN</td>\n",
       "      <td>NaN</td>\n",
       "      <td>NaN</td>\n",
       "      <td>NaN</td>\n",
       "      <td>NaN</td>\n",
       "      <td>NaN</td>\n",
       "      <td>NaN</td>\n",
       "      <td>NaN</td>\n",
       "      <td>NaN</td>\n",
       "      <td>NaN</td>\n",
       "      <td>NaN</td>\n",
       "      <td>NaN</td>\n",
       "    </tr>\n",
       "    <tr>\n",
       "      <th>2</th>\n",
       "      <td>0</td>\n",
       "      <td>2</td>\n",
       "      <td>35</td>\n",
       "      <td>0.0</td>\n",
       "      <td>0</td>\n",
       "      <td>40</td>\n",
       "      <td>11</td>\n",
       "      <td>4</td>\n",
       "      <td>NaN</td>\n",
       "      <td>NaN</td>\n",
       "      <td>NaN</td>\n",
       "      <td>NaN</td>\n",
       "      <td>NaN</td>\n",
       "      <td>NaN</td>\n",
       "      <td>NaN</td>\n",
       "      <td>NaN</td>\n",
       "      <td>NaN</td>\n",
       "      <td>NaN</td>\n",
       "      <td>NaN</td>\n",
       "      <td>NaN</td>\n",
       "      <td>NaN</td>\n",
       "      <td>NaN</td>\n",
       "      <td>NaN</td>\n",
       "      <td>NaN</td>\n",
       "      <td>NaN</td>\n",
       "      <td>NaN</td>\n",
       "      <td>NaN</td>\n",
       "    </tr>\n",
       "    <tr>\n",
       "      <th>...</th>\n",
       "      <td>...</td>\n",
       "      <td>...</td>\n",
       "      <td>...</td>\n",
       "      <td>...</td>\n",
       "      <td>...</td>\n",
       "      <td>...</td>\n",
       "      <td>...</td>\n",
       "      <td>...</td>\n",
       "      <td>...</td>\n",
       "      <td>...</td>\n",
       "      <td>...</td>\n",
       "      <td>...</td>\n",
       "      <td>...</td>\n",
       "      <td>...</td>\n",
       "      <td>...</td>\n",
       "      <td>...</td>\n",
       "      <td>...</td>\n",
       "      <td>...</td>\n",
       "      <td>...</td>\n",
       "      <td>...</td>\n",
       "      <td>...</td>\n",
       "      <td>...</td>\n",
       "      <td>...</td>\n",
       "      <td>...</td>\n",
       "      <td>...</td>\n",
       "      <td>...</td>\n",
       "      <td>...</td>\n",
       "    </tr>\n",
       "    <tr>\n",
       "      <th>3179444</th>\n",
       "      <td>33</td>\n",
       "      <td>59</td>\n",
       "      <td>22163</td>\n",
       "      <td>0.0</td>\n",
       "      <td>30</td>\n",
       "      <td>40</td>\n",
       "      <td>11</td>\n",
       "      <td>4</td>\n",
       "      <td>0.055573</td>\n",
       "      <td>0.023804</td>\n",
       "      <td>NaN</td>\n",
       "      <td>NaN</td>\n",
       "      <td>NaN</td>\n",
       "      <td>NaN</td>\n",
       "      <td>0.031021</td>\n",
       "      <td>0.045807</td>\n",
       "      <td>0.033997</td>\n",
       "      <td>0.035461</td>\n",
       "      <td>0.035034</td>\n",
       "      <td>0.039734</td>\n",
       "      <td>0.020096</td>\n",
       "      <td>0.018631</td>\n",
       "      <td>0.020096</td>\n",
       "      <td>0.031021</td>\n",
       "      <td>0.0</td>\n",
       "      <td>0.039551</td>\n",
       "      <td>0.039734</td>\n",
       "    </tr>\n",
       "    <tr>\n",
       "      <th>3179445</th>\n",
       "      <td>33</td>\n",
       "      <td>59</td>\n",
       "      <td>22164</td>\n",
       "      <td>0.0</td>\n",
       "      <td>30</td>\n",
       "      <td>37</td>\n",
       "      <td>11</td>\n",
       "      <td>1</td>\n",
       "      <td>0.055573</td>\n",
       "      <td>NaN</td>\n",
       "      <td>0.023804</td>\n",
       "      <td>0.023254</td>\n",
       "      <td>0.044434</td>\n",
       "      <td>NaN</td>\n",
       "      <td>0.031021</td>\n",
       "      <td>0.045807</td>\n",
       "      <td>0.033997</td>\n",
       "      <td>0.035461</td>\n",
       "      <td>0.035034</td>\n",
       "      <td>0.040649</td>\n",
       "      <td>0.024384</td>\n",
       "      <td>0.018631</td>\n",
       "      <td>0.017700</td>\n",
       "      <td>0.031021</td>\n",
       "      <td>NaN</td>\n",
       "      <td>0.039551</td>\n",
       "      <td>0.040466</td>\n",
       "    </tr>\n",
       "    <tr>\n",
       "      <th>3179446</th>\n",
       "      <td>33</td>\n",
       "      <td>59</td>\n",
       "      <td>22167</td>\n",
       "      <td>0.0</td>\n",
       "      <td>30</td>\n",
       "      <td>49</td>\n",
       "      <td>12</td>\n",
       "      <td>39</td>\n",
       "      <td>0.055573</td>\n",
       "      <td>NaN</td>\n",
       "      <td>0.071411</td>\n",
       "      <td>NaN</td>\n",
       "      <td>0.066650</td>\n",
       "      <td>0.076904</td>\n",
       "      <td>0.031021</td>\n",
       "      <td>0.045807</td>\n",
       "      <td>0.033997</td>\n",
       "      <td>0.035461</td>\n",
       "      <td>0.035034</td>\n",
       "      <td>0.040558</td>\n",
       "      <td>0.000000</td>\n",
       "      <td>0.021500</td>\n",
       "      <td>0.000000</td>\n",
       "      <td>0.031021</td>\n",
       "      <td>NaN</td>\n",
       "      <td>0.044800</td>\n",
       "      <td>0.040558</td>\n",
       "    </tr>\n",
       "  </tbody>\n",
       "</table>\n",
       "<p>3179447 rows × 27 columns</p>\n",
       "</div>"
      ],
      "text/plain": [
       "         date_block_num  shop_id  item_id  item_cnt_month  city_code  \\\n",
       "0                     0        2       32             0.0          0   \n",
       "1                     0        2       33             0.0          0   \n",
       "2                     0        2       35             0.0          0   \n",
       "...                 ...      ...      ...             ...        ...   \n",
       "3179444              33       59    22163             0.0         30   \n",
       "3179445              33       59    22164             0.0         30   \n",
       "3179446              33       59    22167             0.0         30   \n",
       "\n",
       "         item_category_id  type_code  subtype_code  \\\n",
       "0                      40         11             4   \n",
       "1                      37         11             1   \n",
       "2                      40         11             4   \n",
       "...                   ...        ...           ...   \n",
       "3179444                40         11             4   \n",
       "3179445                37         11             1   \n",
       "3179446                49         12            39   \n",
       "\n",
       "         mean(item_cnt_month|date_block_num)_LAG_1  \\\n",
       "0                                              NaN   \n",
       "1                                              NaN   \n",
       "2                                              NaN   \n",
       "...                                            ...   \n",
       "3179444                                   0.055573   \n",
       "3179445                                   0.055573   \n",
       "3179446                                   0.055573   \n",
       "\n",
       "         mean(item_cnt_month|date_block_num,item_id)_LAG_1  \\\n",
       "0                                                      NaN   \n",
       "1                                                      NaN   \n",
       "2                                                      NaN   \n",
       "...                                                    ...   \n",
       "3179444                                           0.023804   \n",
       "3179445                                                NaN   \n",
       "3179446                                                NaN   \n",
       "\n",
       "         mean(item_cnt_month|date_block_num,item_id)_LAG_2  \\\n",
       "0                                                      NaN   \n",
       "1                                                      NaN   \n",
       "2                                                      NaN   \n",
       "...                                                    ...   \n",
       "3179444                                                NaN   \n",
       "3179445                                           0.023804   \n",
       "3179446                                           0.071411   \n",
       "\n",
       "         mean(item_cnt_month|date_block_num,item_id)_LAG_3  \\\n",
       "0                                                      NaN   \n",
       "1                                                      NaN   \n",
       "2                                                      NaN   \n",
       "...                                                    ...   \n",
       "3179444                                                NaN   \n",
       "3179445                                           0.023254   \n",
       "3179446                                                NaN   \n",
       "\n",
       "         mean(item_cnt_month|date_block_num,item_id)_LAG_6  \\\n",
       "0                                                      NaN   \n",
       "1                                                      NaN   \n",
       "2                                                      NaN   \n",
       "...                                                    ...   \n",
       "3179444                                                NaN   \n",
       "3179445                                           0.044434   \n",
       "3179446                                           0.066650   \n",
       "\n",
       "         mean(item_cnt_month|date_block_num,item_id)_LAG_12  \\\n",
       "0                                                      NaN    \n",
       "1                                                      NaN    \n",
       "2                                                      NaN    \n",
       "...                                                    ...    \n",
       "3179444                                                NaN    \n",
       "3179445                                                NaN    \n",
       "3179446                                           0.076904    \n",
       "\n",
       "         mean(item_cnt_month|date_block_num,shop_id)_LAG_1  \\\n",
       "0                                                      NaN   \n",
       "1                                                      NaN   \n",
       "2                                                      NaN   \n",
       "...                                                    ...   \n",
       "3179444                                           0.031021   \n",
       "3179445                                           0.031021   \n",
       "3179446                                           0.031021   \n",
       "\n",
       "         mean(item_cnt_month|date_block_num,shop_id)_LAG_2  \\\n",
       "0                                                      NaN   \n",
       "1                                                      NaN   \n",
       "2                                                      NaN   \n",
       "...                                                    ...   \n",
       "3179444                                           0.045807   \n",
       "3179445                                           0.045807   \n",
       "3179446                                           0.045807   \n",
       "\n",
       "         mean(item_cnt_month|date_block_num,shop_id)_LAG_3  \\\n",
       "0                                                      NaN   \n",
       "1                                                      NaN   \n",
       "2                                                      NaN   \n",
       "...                                                    ...   \n",
       "3179444                                           0.033997   \n",
       "3179445                                           0.033997   \n",
       "3179446                                           0.033997   \n",
       "\n",
       "         mean(item_cnt_month|date_block_num,shop_id)_LAG_6  \\\n",
       "0                                                      NaN   \n",
       "1                                                      NaN   \n",
       "2                                                      NaN   \n",
       "...                                                    ...   \n",
       "3179444                                           0.035461   \n",
       "3179445                                           0.035461   \n",
       "3179446                                           0.035461   \n",
       "\n",
       "         mean(item_cnt_month|date_block_num,shop_id)_LAG_12  \\\n",
       "0                                                      NaN    \n",
       "1                                                      NaN    \n",
       "2                                                      NaN    \n",
       "...                                                    ...    \n",
       "3179444                                           0.035034    \n",
       "3179445                                           0.035034    \n",
       "3179446                                           0.035034    \n",
       "\n",
       "         mean(item_cnt_month|date_block_num,item_category_id)_LAG_1  \\\n",
       "0                                                      NaN            \n",
       "1                                                      NaN            \n",
       "2                                                      NaN            \n",
       "...                                                    ...            \n",
       "3179444                                           0.039734            \n",
       "3179445                                           0.040649            \n",
       "3179446                                           0.040558            \n",
       "\n",
       "         mean(item_cnt_month|date_block_num,shop_id,item_category_id)_LAG_1  \\\n",
       "0                                                      NaN                    \n",
       "1                                                      NaN                    \n",
       "2                                                      NaN                    \n",
       "...                                                    ...                    \n",
       "3179444                                           0.020096                    \n",
       "3179445                                           0.024384                    \n",
       "3179446                                           0.000000                    \n",
       "\n",
       "         mean(item_cnt_month|date_block_num,shop_id,type_code)_LAG_1  \\\n",
       "0                                                      NaN             \n",
       "1                                                      NaN             \n",
       "2                                                      NaN             \n",
       "...                                                    ...             \n",
       "3179444                                           0.018631             \n",
       "3179445                                           0.018631             \n",
       "3179446                                           0.021500             \n",
       "\n",
       "         mean(item_cnt_month|date_block_num,shop_id,subtype_code)_LAG_1  \\\n",
       "0                                                      NaN                \n",
       "1                                                      NaN                \n",
       "2                                                      NaN                \n",
       "...                                                    ...                \n",
       "3179444                                           0.020096                \n",
       "3179445                                           0.017700                \n",
       "3179446                                           0.000000                \n",
       "\n",
       "         mean(item_cnt_month|date_block_num,city_code)_LAG_1  \\\n",
       "0                                                      NaN     \n",
       "1                                                      NaN     \n",
       "2                                                      NaN     \n",
       "...                                                    ...     \n",
       "3179444                                           0.031021     \n",
       "3179445                                           0.031021     \n",
       "3179446                                           0.031021     \n",
       "\n",
       "         mean(item_cnt_month|date_block_num,item_id,city_code)_LAG_1  \\\n",
       "0                                                      NaN             \n",
       "1                                                      NaN             \n",
       "2                                                      NaN             \n",
       "...                                                    ...             \n",
       "3179444                                                0.0             \n",
       "3179445                                                NaN             \n",
       "3179446                                                NaN             \n",
       "\n",
       "         mean(item_cnt_month|date_block_num,type_code)_LAG_1  \\\n",
       "0                                                      NaN     \n",
       "1                                                      NaN     \n",
       "2                                                      NaN     \n",
       "...                                                    ...     \n",
       "3179444                                           0.039551     \n",
       "3179445                                           0.039551     \n",
       "3179446                                           0.044800     \n",
       "\n",
       "         mean(item_cnt_month|date_block_num,subtype_code)_LAG_1  \n",
       "0                                                      NaN       \n",
       "1                                                      NaN       \n",
       "2                                                      NaN       \n",
       "...                                                    ...       \n",
       "3179444                                           0.039734       \n",
       "3179445                                           0.040466       \n",
       "3179446                                           0.040558       \n",
       "\n",
       "[3179447 rows x 27 columns]"
      ]
     },
     "metadata": {},
     "output_type": "display_data"
    },
    {
     "name": "stdout",
     "output_type": "stream",
     "text": [
      "CPU times: user 9.17 s, sys: 639 ms, total: 9.81 s\n",
      "Wall time: 9.8 s\n"
     ]
    }
   ],
   "source": [
    "%%time\n",
    "\n",
    "timeFeatures = [\n",
    "    {\n",
    "        \"pivot\": ['date_block_num'],\n",
    "        \"aggregate\": 'item_cnt_month',\n",
    "        \"function\": 'mean',\n",
    "        \"lags\": [1],\n",
    "        \"dropMain\": True,\n",
    "    },\n",
    "    {\n",
    "        \"pivot\": ['date_block_num', 'item_id'],\n",
    "        \"aggregate\": 'item_cnt_month',\n",
    "        \"function\": 'mean',\n",
    "        \"lags\": [1,2,3,6,12],\n",
    "        \"dropMain\": True,\n",
    "    },\n",
    "    {\n",
    "        \"pivot\": ['date_block_num', 'shop_id'],\n",
    "        \"aggregate\": 'item_cnt_month',\n",
    "        \"function\": 'mean',\n",
    "        \"lags\": [1,2,3,6,12],\n",
    "        \"dropMain\": True,\n",
    "    },\n",
    "    {\n",
    "        \"pivot\": ['date_block_num', 'item_category_id'],\n",
    "        \"aggregate\": 'item_cnt_month',\n",
    "        \"function\": 'mean',\n",
    "        \"lags\": [1],\n",
    "        \"dropMain\": True,\n",
    "    },\n",
    "    {\n",
    "        \"pivot\": ['date_block_num', 'shop_id', 'item_category_id'],\n",
    "        \"aggregate\": 'item_cnt_month',\n",
    "        \"function\": 'mean',\n",
    "        \"lags\": [1],\n",
    "        \"dropMain\": True,\n",
    "    },\n",
    "    {\n",
    "        \"pivot\": ['date_block_num', 'shop_id', 'type_code'],\n",
    "        \"aggregate\": 'item_cnt_month',\n",
    "        \"function\": 'mean',\n",
    "        \"lags\": [1],\n",
    "        \"dropMain\": True,\n",
    "    },\n",
    "    {\n",
    "        \"pivot\": ['date_block_num', 'shop_id', 'subtype_code'],\n",
    "        \"aggregate\": 'item_cnt_month',\n",
    "        \"function\": 'mean',\n",
    "        \"lags\": [1],\n",
    "        \"dropMain\": True,\n",
    "    },\n",
    "    {\n",
    "        \"pivot\": ['date_block_num', 'city_code'],\n",
    "        \"aggregate\": 'item_cnt_month',\n",
    "        \"function\": 'mean',\n",
    "        \"lags\": [1],\n",
    "        \"dropMain\": True,\n",
    "    },\n",
    "    {\n",
    "        \"pivot\": ['date_block_num', 'item_id', 'city_code'],\n",
    "        \"aggregate\": 'item_cnt_month',\n",
    "        \"function\": 'mean',\n",
    "        \"lags\": [1],\n",
    "        \"dropMain\": True,\n",
    "    },\n",
    "    {\n",
    "        \"pivot\": ['date_block_num', 'type_code'],\n",
    "        \"aggregate\": 'item_cnt_month',\n",
    "        \"function\": 'mean',\n",
    "        \"lags\": [1],\n",
    "        \"dropMain\": True,\n",
    "    },\n",
    "    {\n",
    "        \"pivot\": ['date_block_num', 'subtype_code'],\n",
    "        \"aggregate\": 'item_cnt_month',\n",
    "        \"function\": 'mean',\n",
    "        \"lags\": [1],\n",
    "        \"dropMain\": True,\n",
    "    },\n",
    "]\n",
    "\n",
    "matrix2 = matrix.copy()\n",
    "\n",
    "for index, feature in enumerate(timeFeatures):\n",
    "    print(\"\\ngenerating %s/%s\" % (index, len(timeFeatures)))\n",
    "    grouped = execGroupFeature(feature, matrix)\n",
    "    matrix2 = pd.merge(matrix2, grouped, on=feature['pivot'], how='left')\n",
    "\n",
    "display(matrix2)"
   ]
  },
  {
   "cell_type": "markdown",
   "metadata": {
    "_uuid": "6bcea31d93ab035ca3fa1ed7c0afddbf602c414a"
   },
   "source": [
    "---\n",
    "\n",
    "# Trend features"
   ]
  },
  {
   "cell_type": "markdown",
   "metadata": {
    "_uuid": "0504e9613087237c255914d9ebd165fac4e88cd0"
   },
   "source": [
    "Price trend for the last six months."
   ]
  },
  {
   "cell_type": "code",
   "execution_count": 46,
   "metadata": {},
   "outputs": [
    {
     "name": "stdout",
     "output_type": "stream",
     "text": [
      "CPU times: user 42.9 ms, sys: 0 ns, total: 42.9 ms\n",
      "Wall time: 42.1 ms\n"
     ]
    }
   ],
   "source": [
    "%%time\n",
    "\n",
    "averagePrice = createGroupBy(train, ['item_id'], {'item_price': ['mean']})\n",
    "\n",
    "averagePricePerBlock = createGroupBy(train, ['date_block_num', 'item_id'], {'item_price': ['mean']})"
   ]
  },
  {
   "cell_type": "code",
   "execution_count": 47,
   "metadata": {},
   "outputs": [
    {
     "name": "stdout",
     "output_type": "stream",
     "text": [
      "CPU times: user 2.64 s, sys: 14.8 ms, total: 2.66 s\n",
      "Wall time: 2.65 s\n"
     ]
    }
   ],
   "source": [
    "%%time\n",
    "\n",
    "lags = [1,2,3,4,5,6]\n",
    "grouped = lagFeature(averagePricePerBlock, lags, 'mean(item_price|date_block_num,item_id)', ['date_block_num', 'item_id'])\n",
    "\n",
    "grouped = pd.merge(grouped, averagePrice, on=['item_id'], how='left')\n",
    "\n",
    "for i in lags:\n",
    "    grouped['delta_price_lag_%s' % i] = \\\n",
    "        (grouped['mean(item_price|date_block_num,item_id)_LAG_%s' % i] - grouped['mean(item_price|item_id)']) \\\n",
    "        / grouped['mean(item_price|item_id)']\n",
    "\n",
    "# There must be some best practice stuff behind this that I ignore...\n",
    "def selectTrend(row):\n",
    "    for i in lags:\n",
    "        if row['delta_price_lag_%s' % i]:\n",
    "            return row['delta_price_lag_%s' % i]\n",
    "    return 0\n",
    "\n",
    "# grouped = grouped2.copy()\n",
    "\n",
    "# Select first available trend saying if it's going up or down?\n",
    "grouped['delta_price_lag'] = grouped.apply(selectTrend, axis=1)\n",
    "grouped['delta_price_lag'] = grouped['delta_price_lag'].astype(np.float16)\n",
    "grouped['delta_price_lag'].fillna(0, inplace=True)\n",
    "\n",
    "grouped = grouped[['date_block_num','item_id','delta_price_lag']]\n",
    "\n",
    "matrix3 = pd.merge(matrix2, grouped, on=['date_block_num','item_id'], how='left')\n"
   ]
  },
  {
   "cell_type": "markdown",
   "metadata": {
    "_uuid": "17765ddb48f52abd88847a42c0a3ffe974e5b121"
   },
   "source": [
    "Last month shop revenue trend"
   ]
  },
  {
   "cell_type": "code",
   "execution_count": 1,
   "metadata": {},
   "outputs": [
    {
     "ename": "NameError",
     "evalue": "name 'execGroupFeature' is not defined",
     "output_type": "error",
     "traceback": [
      "\u001b[0;31m---------------------------------------------------------------------------\u001b[0m",
      "\u001b[0;31mNameError\u001b[0m                                 Traceback (most recent call last)",
      "\u001b[0;32m<timed exec>\u001b[0m in \u001b[0;36m<module>\u001b[0;34m()\u001b[0m\n",
      "\u001b[0;31mNameError\u001b[0m: name 'execGroupFeature' is not defined"
     ]
    }
   ],
   "source": [
    "%%time\n",
    "\n",
    "# TODO: document\n",
    "\n",
    "revenueFeatures = [\n",
    "    {\n",
    "        \"pivot\": ['date_block_num','shop_id'],\n",
    "        \"aggregate\": 'revenue',\n",
    "        \"function\": 'sum',\n",
    "    },\n",
    "    {\n",
    "        \"pivot\": ['shop_id'],\n",
    "        \"aggregate\": 'sum(revenue|date_block_num,shop_id)',\n",
    "        \"function\": 'mean',\n",
    "    },\n",
    "]\n",
    "\n",
    "grouped0 = execGroupFeature(revenueFeatures[0], train)\n",
    "\n",
    "grouped1 = execGroupFeature(revenueFeatures[1], grouped0)\n"
   ]
  },
  {
   "cell_type": "code",
   "execution_count": 134,
   "metadata": {},
   "outputs": [
    {
     "name": "stdout",
     "output_type": "stream",
     "text": [
      "CPU times: user 799 ms, sys: 533 ms, total: 1.33 s\n",
      "Wall time: 1.33 s\n"
     ]
    }
   ],
   "source": [
    "%%time\n",
    "\n",
    "# TODO: document\n",
    "\n",
    "matrix3 = matrix2.copy()\n",
    "\n",
    "averageRev = createGroupBy(train, ['date_block_num','shop_id'], {'revenue': ['sum']})\n",
    "\n",
    "averageRevPerBlock = createGroupBy(averageRev, ['shop_id'], {'sum(revenue|date_block_num,shop_id)': ['mean']})\n",
    "\n",
    "averageRev = pd.merge(averageRevPerBlock, averageRev, on=['shop_id'], how='left')\n",
    "\n",
    "averageRev['delta_revenue'] = (averageRev['sum(revenue|date_block_num,shop_id)'] - averageRev['mean(sum(revenue|date_block_num,shop_id)|shop_id)']) / averageRev['mean(sum(revenue|date_block_num,shop_id)|shop_id)']\n",
    "averageRev = averageRev[['date_block_num', 'shop_id', 'delta_revenue']]\n",
    "\n",
    "\n",
    "averageRev = lagFeature(averageRev, [1], 'delta_revenue', ['date_block_num', 'shop_id'])\n",
    "\n",
    "averageRev = averageRev[['date_block_num','shop_id','delta_revenue_LAG_1']]\n",
    "# display(averageRev)\n",
    "\n",
    "matrix3 = pd.merge(matrix3, averageRev, on=['date_block_num','shop_id'], how='left')"
   ]
  },
  {
   "cell_type": "markdown",
   "metadata": {
    "_uuid": "47e06af411b7d26cd93dad3d6735e48e5fbdee50"
   },
   "source": [
    "---\n",
    "\n",
    "# Special features"
   ]
  },
  {
   "cell_type": "code",
   "execution_count": 135,
   "metadata": {
    "_uuid": "bb521e1f33d4124a3b90b47447bdb29150770b6e"
   },
   "outputs": [],
   "source": [
    "matrix3['month'] = matrix3['date_block_num'] % 12"
   ]
  },
  {
   "cell_type": "markdown",
   "metadata": {
    "_uuid": "b4dc4d2ff86483989c4b74fc02a0d01ca68a5c75"
   },
   "source": [
    "Number of days in a month. There are no leap years."
   ]
  },
  {
   "cell_type": "code",
   "execution_count": 136,
   "metadata": {
    "_uuid": "e23f0201056b73368e3b70d4c36c6bb9e4a55291"
   },
   "outputs": [],
   "source": [
    "days = pd.Series([31,28,31,30,31,30,31,31,30,31,30,31])\n",
    "matrix3['days'] = matrix3['month'].map(days).astype(np.int8)"
   ]
  },
  {
   "cell_type": "markdown",
   "metadata": {
    "_uuid": "7c096e86eb0043c0f6eeb899de24e28ca4c4e044"
   },
   "source": [
    "Months since the last sale for each shop/item pair and for item only. I use programing approach.\n",
    "\n",
    "<i>Create HashTable with key equals to {shop_id,item_id} and value equals to date_block_num. Iterate data from the top. Foreach row if {row.shop_id,row.item_id} is not present in the table, then add it to the table and set its value to row.date_block_num. if HashTable contains key, then calculate the difference beteween cached value and row.date_block_num.</i>"
   ]
  },
  {
   "cell_type": "code",
   "execution_count": 137,
   "metadata": {},
   "outputs": [],
   "source": [
    "matrix3['item_cnt_month'] = matrix3['item_cnt_month'].astype(np.int64)"
   ]
  },
  {
   "cell_type": "markdown",
   "metadata": {},
   "source": [
    "### Top-Bottom Propagation\n",
    "\n",
    "Iterate top down propagating shit."
   ]
  },
  {
   "cell_type": "code",
   "execution_count": 147,
   "metadata": {},
   "outputs": [],
   "source": [
    "# Seems slightly faster than the iterrows method, but not worth the pain\n",
    "# at the moment.\n",
    "\n",
    "# %%time\n",
    "\n",
    "# # https://kratzert.github.io/2017/09/21/numba-series-part-1-the-jit-decorator-and-some-more-numba-basics.html\n",
    "\n",
    "# import numba\n",
    "\n",
    "# matrix4 = matrix3.copy()\n",
    "\n",
    "# @numba.jit('int64[:](int64[:],int64[:])', nopython=True)\n",
    "# def propagateLastSale(date_blocks, counts):\n",
    "#     lastSalesVec = np.empty(counts.shape, dtype=np.int64)\n",
    "    \n",
    "#     lastSale = None\n",
    "#     for i in range(len(date_blocks)):\n",
    "#         date_block, count = date_blocks[i], counts[i]\n",
    "#         if not lastSale is None:\n",
    "#             lastSalesVec[i] = date_block - lastSale\n",
    "#         else:\n",
    "#             lastSalesVec[i] = -1\n",
    "#         if count != 0:\n",
    "#             lastSale = date_block\n",
    "#     return lastSalesVec\n",
    "\n",
    "# count = 0\n",
    "# def genLastSaleColumn(group):\n",
    "#     global count\n",
    "# #     display(group)\n",
    "\n",
    "#     groupValues = group[['date_block_num', 'item_cnt_month']].values.T\n",
    "#     a = propagateLastSale(*groupValues)\n",
    "#     group['last_sales'] = a\n",
    "#     count += 1\n",
    "#     if count % 1000 == 0:\n",
    "#         print(\"count %s/%s = %s\" % (count, 13459, count/13459))\n",
    "#     return group\n",
    "    \n",
    "# # matrix4 = matrix4[(matrix3.item_id>30)&(matrix3.item_id<40)]\n",
    "\n",
    "# print(len(matrix3[matrix3.item_cnt_month != 0].groupby(['item_id', 'shop_id']).groups))\n",
    "# td = matrix4[matrix4.item_cnt_month != 0].groupby(['item_id', 'shop_id']).apply(genLastSaleColumn)\n",
    "# # display(td[['date_block_num', 'last_sales']].iloc[-50:])\n",
    "\n",
    "# # sel = sel[(matrix3.item_id==22164)&(matrix3.shop_id==59)]"
   ]
  },
  {
   "cell_type": "markdown",
   "metadata": {},
   "source": [
    "`len(matrix3[matrix3.item_cnt_month != 0].groupby(['item_id', 'shop_id']).groups = 13459` while without discounting the item_cnt_month, it's 288,355."
   ]
  },
  {
   "cell_type": "code",
   "execution_count": 148,
   "metadata": {
    "_uuid": "3458a7056c963167760921417d1f863f074f2b39"
   },
   "outputs": [
    {
     "name": "stdout",
     "output_type": "stream",
     "text": [
      "count is 0 0.0\n",
      "count is 50000 0.015724655001069277\n"
     ]
    },
    {
     "name": "stderr",
     "output_type": "stream",
     "text": [
      "Exception ignored in: <function _on_type_disposal at 0x7f93369f1ae8>\n",
      "Traceback (most recent call last):\n",
      "  File \"/home/ec2-user/anaconda3/envs/python3/lib/python3.6/site-packages/numba/types/abstract.py\", line 30, in _on_type_disposal\n",
      "    def _on_type_disposal(wr, _pop=_typecache.pop):\n",
      "KeyboardInterrupt\n"
     ]
    },
    {
     "ename": "KeyboardInterrupt",
     "evalue": "",
     "output_type": "error",
     "traceback": [
      "\u001b[0;31m---------------------------------------------------------------------------\u001b[0m",
      "\u001b[0;31mKeyboardInterrupt\u001b[0m                         Traceback (most recent call last)",
      "\u001b[0;32m<timed exec>\u001b[0m in \u001b[0;36m<module>\u001b[0;34m()\u001b[0m\n",
      "\u001b[0;32m<timed exec>\u001b[0m in \u001b[0;36mdoit\u001b[0;34m(matrix4)\u001b[0m\n",
      "\u001b[0;32m~/anaconda3/envs/python3/lib/python3.6/site-packages/pandas/core/generic.py\u001b[0m in \u001b[0;36m__getattr__\u001b[0;34m(self, name)\u001b[0m\n\u001b[1;32m   4372\u001b[0m             \u001b[0;32mreturn\u001b[0m \u001b[0mobject\u001b[0m\u001b[0;34m.\u001b[0m\u001b[0m__getattribute__\u001b[0m\u001b[0;34m(\u001b[0m\u001b[0mself\u001b[0m\u001b[0;34m,\u001b[0m \u001b[0mname\u001b[0m\u001b[0;34m)\u001b[0m\u001b[0;34m\u001b[0m\u001b[0m\n\u001b[1;32m   4373\u001b[0m         \u001b[0;32melse\u001b[0m\u001b[0;34m:\u001b[0m\u001b[0;34m\u001b[0m\u001b[0m\n\u001b[0;32m-> 4374\u001b[0;31m             \u001b[0;32mif\u001b[0m \u001b[0mself\u001b[0m\u001b[0;34m.\u001b[0m\u001b[0m_info_axis\u001b[0m\u001b[0;34m.\u001b[0m\u001b[0m_can_hold_identifiers_and_holds_name\u001b[0m\u001b[0;34m(\u001b[0m\u001b[0mname\u001b[0m\u001b[0;34m)\u001b[0m\u001b[0;34m:\u001b[0m\u001b[0;34m\u001b[0m\u001b[0m\n\u001b[0m\u001b[1;32m   4375\u001b[0m                 \u001b[0;32mreturn\u001b[0m \u001b[0mself\u001b[0m\u001b[0;34m[\u001b[0m\u001b[0mname\u001b[0m\u001b[0;34m]\u001b[0m\u001b[0;34m\u001b[0m\u001b[0m\n\u001b[1;32m   4376\u001b[0m             \u001b[0;32mreturn\u001b[0m \u001b[0mobject\u001b[0m\u001b[0;34m.\u001b[0m\u001b[0m__getattribute__\u001b[0m\u001b[0;34m(\u001b[0m\u001b[0mself\u001b[0m\u001b[0;34m,\u001b[0m \u001b[0mname\u001b[0m\u001b[0;34m)\u001b[0m\u001b[0;34m\u001b[0m\u001b[0m\n",
      "\u001b[0;32m~/anaconda3/envs/python3/lib/python3.6/site-packages/pandas/core/generic.py\u001b[0m in \u001b[0;36m_info_axis\u001b[0;34m(self)\u001b[0m\n\u001b[1;32m    436\u001b[0m         \u001b[0;32mreturn\u001b[0m \u001b[0md\u001b[0m\u001b[0;34m\u001b[0m\u001b[0m\n\u001b[1;32m    437\u001b[0m \u001b[0;34m\u001b[0m\u001b[0m\n\u001b[0;32m--> 438\u001b[0;31m     \u001b[0;34m@\u001b[0m\u001b[0mproperty\u001b[0m\u001b[0;34m\u001b[0m\u001b[0m\n\u001b[0m\u001b[1;32m    439\u001b[0m     \u001b[0;32mdef\u001b[0m \u001b[0m_info_axis\u001b[0m\u001b[0;34m(\u001b[0m\u001b[0mself\u001b[0m\u001b[0;34m)\u001b[0m\u001b[0;34m:\u001b[0m\u001b[0;34m\u001b[0m\u001b[0m\n\u001b[1;32m    440\u001b[0m         \u001b[0;32mreturn\u001b[0m \u001b[0mgetattr\u001b[0m\u001b[0;34m(\u001b[0m\u001b[0mself\u001b[0m\u001b[0;34m,\u001b[0m \u001b[0mself\u001b[0m\u001b[0;34m.\u001b[0m\u001b[0m_info_axis_name\u001b[0m\u001b[0;34m)\u001b[0m\u001b[0;34m\u001b[0m\u001b[0m\n",
      "\u001b[0;31mKeyboardInterrupt\u001b[0m: "
     ]
    }
   ],
   "source": [
    "# Idea: this can be parallelized by partitioning matrix by different\n",
    "# shop_ids\n",
    "\n",
    "%%time\n",
    "# felipap: creating totally new features\n",
    "# felipap: item_shop_last_sale: months since last sale\n",
    "\n",
    "def doit(matrix4):\n",
    "    ts = time.time()\n",
    "    lastSaleForItemAtShop = {}\n",
    "    matrix4['item_shop_last_sale'] = -1\n",
    "    count = 0\n",
    "    for idx, row in matrix4.iterrows():\n",
    "        if count %50000 == 0:\n",
    "            print(\"count is\", count, count/len(matrix4))\n",
    "        count += 1\n",
    "        key = (row.item_id, row.shop_id)\n",
    "        if key not in lastSaleForItemAtShop:\n",
    "            if row.item_cnt_month!=0:\n",
    "                lastSaleForItemAtShop[key] = row.date_block_num\n",
    "        else:\n",
    "            last_date_block_num = lastSaleForItemAtShop[key]\n",
    "            matrix4.at[idx, 'item_shop_last_sale'] = row.date_block_num - last_date_block_num\n",
    "            lastSaleForItemAtShop[key] = row.date_block_num\n",
    "\n",
    "doit(matrix4)\n",
    "\n",
    "matrix4['item_shop_last_sale'] = matrix4['item_shop_last_sale'].astype(np.int8)\n",
    "\n",
    "time.time() - ts\n",
    "matrix4"
   ]
  },
  {
   "cell_type": "code",
   "execution_count": 131,
   "metadata": {
    "_uuid": "28b29fae3906d870b4dc3064a7f359b6d3abf623"
   },
   "outputs": [
    {
     "name": "stdout",
     "output_type": "stream",
     "text": [
      "count is 0 0.0\n",
      "count is 50000 0.015724655001069277\n"
     ]
    },
    {
     "ename": "KeyboardInterrupt",
     "evalue": "",
     "output_type": "error",
     "traceback": [
      "\u001b[0;31m---------------------------------------------------------------------------\u001b[0m",
      "\u001b[0;31mKeyboardInterrupt\u001b[0m                         Traceback (most recent call last)",
      "\u001b[0;32m<ipython-input-131-f28ef4a685ad>\u001b[0m in \u001b[0;36m<module>\u001b[0;34m()\u001b[0m\n\u001b[1;32m     16\u001b[0m         \u001b[0mlast_date_block_num\u001b[0m \u001b[0;34m=\u001b[0m \u001b[0mlastSaleForItem\u001b[0m\u001b[0;34m[\u001b[0m\u001b[0mkey\u001b[0m\u001b[0;34m]\u001b[0m\u001b[0;34m\u001b[0m\u001b[0m\n\u001b[1;32m     17\u001b[0m         \u001b[0;31m# felipap: why are we checking this?\u001b[0m\u001b[0;34m\u001b[0m\u001b[0;34m\u001b[0m\u001b[0m\n\u001b[0;32m---> 18\u001b[0;31m         \u001b[0;32mif\u001b[0m \u001b[0mrow\u001b[0m\u001b[0;34m.\u001b[0m\u001b[0mdate_block_num\u001b[0m\u001b[0;34m>\u001b[0m\u001b[0mlast_date_block_num\u001b[0m\u001b[0;34m:\u001b[0m\u001b[0;34m\u001b[0m\u001b[0m\n\u001b[0m\u001b[1;32m     19\u001b[0m             \u001b[0mmatrix\u001b[0m\u001b[0;34m.\u001b[0m\u001b[0mat\u001b[0m\u001b[0;34m[\u001b[0m\u001b[0midx\u001b[0m\u001b[0;34m,\u001b[0m \u001b[0;34m'item_last_sale'\u001b[0m\u001b[0;34m]\u001b[0m \u001b[0;34m=\u001b[0m \u001b[0mrow\u001b[0m\u001b[0;34m.\u001b[0m\u001b[0mdate_block_num\u001b[0m \u001b[0;34m-\u001b[0m \u001b[0mlast_date_block_num\u001b[0m\u001b[0;34m\u001b[0m\u001b[0m\n\u001b[1;32m     20\u001b[0m             \u001b[0mlastSaleForItem\u001b[0m\u001b[0;34m[\u001b[0m\u001b[0mkey\u001b[0m\u001b[0;34m]\u001b[0m \u001b[0;34m=\u001b[0m \u001b[0mrow\u001b[0m\u001b[0;34m.\u001b[0m\u001b[0mdate_block_num\u001b[0m\u001b[0;34m\u001b[0m\u001b[0m\n",
      "\u001b[0;32m~/anaconda3/envs/python3/lib/python3.6/site-packages/pandas/core/generic.py\u001b[0m in \u001b[0;36m__getattr__\u001b[0;34m(self, name)\u001b[0m\n\u001b[1;32m   4373\u001b[0m         \u001b[0;32melse\u001b[0m\u001b[0;34m:\u001b[0m\u001b[0;34m\u001b[0m\u001b[0m\n\u001b[1;32m   4374\u001b[0m             \u001b[0;32mif\u001b[0m \u001b[0mself\u001b[0m\u001b[0;34m.\u001b[0m\u001b[0m_info_axis\u001b[0m\u001b[0;34m.\u001b[0m\u001b[0m_can_hold_identifiers_and_holds_name\u001b[0m\u001b[0;34m(\u001b[0m\u001b[0mname\u001b[0m\u001b[0;34m)\u001b[0m\u001b[0;34m:\u001b[0m\u001b[0;34m\u001b[0m\u001b[0m\n\u001b[0;32m-> 4375\u001b[0;31m                 \u001b[0;32mreturn\u001b[0m \u001b[0mself\u001b[0m\u001b[0;34m[\u001b[0m\u001b[0mname\u001b[0m\u001b[0;34m]\u001b[0m\u001b[0;34m\u001b[0m\u001b[0m\n\u001b[0m\u001b[1;32m   4376\u001b[0m             \u001b[0;32mreturn\u001b[0m \u001b[0mobject\u001b[0m\u001b[0;34m.\u001b[0m\u001b[0m__getattribute__\u001b[0m\u001b[0;34m(\u001b[0m\u001b[0mself\u001b[0m\u001b[0;34m,\u001b[0m \u001b[0mname\u001b[0m\u001b[0;34m)\u001b[0m\u001b[0;34m\u001b[0m\u001b[0m\n\u001b[1;32m   4377\u001b[0m \u001b[0;34m\u001b[0m\u001b[0m\n",
      "\u001b[0;32m~/anaconda3/envs/python3/lib/python3.6/site-packages/pandas/core/series.py\u001b[0m in \u001b[0;36m__getitem__\u001b[0;34m(self, key)\u001b[0m\n\u001b[1;32m    765\u001b[0m         \u001b[0mkey\u001b[0m \u001b[0;34m=\u001b[0m \u001b[0mcom\u001b[0m\u001b[0;34m.\u001b[0m\u001b[0m_apply_if_callable\u001b[0m\u001b[0;34m(\u001b[0m\u001b[0mkey\u001b[0m\u001b[0;34m,\u001b[0m \u001b[0mself\u001b[0m\u001b[0;34m)\u001b[0m\u001b[0;34m\u001b[0m\u001b[0m\n\u001b[1;32m    766\u001b[0m         \u001b[0;32mtry\u001b[0m\u001b[0;34m:\u001b[0m\u001b[0;34m\u001b[0m\u001b[0m\n\u001b[0;32m--> 767\u001b[0;31m             \u001b[0mresult\u001b[0m \u001b[0;34m=\u001b[0m \u001b[0mself\u001b[0m\u001b[0;34m.\u001b[0m\u001b[0mindex\u001b[0m\u001b[0;34m.\u001b[0m\u001b[0mget_value\u001b[0m\u001b[0;34m(\u001b[0m\u001b[0mself\u001b[0m\u001b[0;34m,\u001b[0m \u001b[0mkey\u001b[0m\u001b[0;34m)\u001b[0m\u001b[0;34m\u001b[0m\u001b[0m\n\u001b[0m\u001b[1;32m    768\u001b[0m \u001b[0;34m\u001b[0m\u001b[0m\n\u001b[1;32m    769\u001b[0m             \u001b[0;32mif\u001b[0m \u001b[0;32mnot\u001b[0m \u001b[0mis_scalar\u001b[0m\u001b[0;34m(\u001b[0m\u001b[0mresult\u001b[0m\u001b[0;34m)\u001b[0m\u001b[0;34m:\u001b[0m\u001b[0;34m\u001b[0m\u001b[0m\n",
      "\u001b[0;32m~/anaconda3/envs/python3/lib/python3.6/site-packages/pandas/core/indexes/base.py\u001b[0m in \u001b[0;36mget_value\u001b[0;34m(self, series, key)\u001b[0m\n\u001b[1;32m   3116\u001b[0m         \u001b[0;32mtry\u001b[0m\u001b[0;34m:\u001b[0m\u001b[0;34m\u001b[0m\u001b[0m\n\u001b[1;32m   3117\u001b[0m             return self._engine.get_value(s, k,\n\u001b[0;32m-> 3118\u001b[0;31m                                           tz=getattr(series.dtype, 'tz', None))\n\u001b[0m\u001b[1;32m   3119\u001b[0m         \u001b[0;32mexcept\u001b[0m \u001b[0mKeyError\u001b[0m \u001b[0;32mas\u001b[0m \u001b[0me1\u001b[0m\u001b[0;34m:\u001b[0m\u001b[0;34m\u001b[0m\u001b[0m\n\u001b[1;32m   3120\u001b[0m             \u001b[0;32mif\u001b[0m \u001b[0mlen\u001b[0m\u001b[0;34m(\u001b[0m\u001b[0mself\u001b[0m\u001b[0;34m)\u001b[0m \u001b[0;34m>\u001b[0m \u001b[0;36m0\u001b[0m \u001b[0;32mand\u001b[0m \u001b[0mself\u001b[0m\u001b[0;34m.\u001b[0m\u001b[0minferred_type\u001b[0m \u001b[0;32min\u001b[0m \u001b[0;34m[\u001b[0m\u001b[0;34m'integer'\u001b[0m\u001b[0;34m,\u001b[0m \u001b[0;34m'boolean'\u001b[0m\u001b[0;34m]\u001b[0m\u001b[0;34m:\u001b[0m\u001b[0;34m\u001b[0m\u001b[0m\n",
      "\u001b[0;31mKeyboardInterrupt\u001b[0m: "
     ]
    }
   ],
   "source": [
    "ts = time.time()\n",
    "lastSaleForItem = {}\n",
    "matrix['item_last_sale'] = -1\n",
    "matrix['item_last_sale'] = matrix['item_last_sale'].astype(np.int8)\n",
    "\n",
    "count = 0\n",
    "for idx, row in matrix.iterrows():\n",
    "    if count %50000 == 0:\n",
    "        print(\"count is\", count, count/len(matrix))\n",
    "    count += 1\n",
    "    key = row.item_id\n",
    "    if key not in lastSaleForItem:\n",
    "        if row.item_cnt_month!=0:\n",
    "            lastSaleForItem[key] = row.date_block_num\n",
    "    else:\n",
    "        last_date_block_num = lastSaleForItem[key]\n",
    "        # felipap: why are we checking this?\n",
    "        if row.date_block_num>last_date_block_num:\n",
    "            matrix.at[idx, 'item_last_sale'] = row.date_block_num - last_date_block_num\n",
    "            lastSaleForItem[key] = row.date_block_num         \n",
    "time.time() - ts\n",
    "matrix"
   ]
  },
  {
   "cell_type": "markdown",
   "metadata": {
    "_uuid": "61987e6adc1bec2ea897eec837c0253f7f73fdb5"
   },
   "source": [
    "Months since the first sale for each shop/item pair and for item only."
   ]
  },
  {
   "cell_type": "code",
   "execution_count": null,
   "metadata": {
    "_uuid": "ad0869709bbada35726d5ca41dd913d817249f8e"
   },
   "outputs": [],
   "source": [
    "# felipap: semi-creative new features again\n",
    "ts = time.time()\n",
    "matrix['item_shop_first_sale'] = matrix['date_block_num'] - matrix.groupby(['item_id','shop_id'])['date_block_num'].transform('min')\n",
    "matrix['item_first_sale'] = matrix['date_block_num'] - matrix.groupby('item_id')['date_block_num'].transform('min')\n",
    "time.time() - ts"
   ]
  },
  {
   "cell_type": "markdown",
   "metadata": {},
   "source": [
    "---"
   ]
  },
  {
   "cell_type": "code",
   "execution_count": null,
   "metadata": {},
   "outputs": [],
   "source": [
    "matrix"
   ]
  },
  {
   "cell_type": "markdown",
   "metadata": {
    "_uuid": "966cb34ccfe849fbb3707d93270691cb8eef7a89"
   },
   "source": [
    "## Final preparations\n",
    "Because of the using 12 as lag value drop first 12 months. Also drop all the columns with this month calculated values (other words which can not be calcucated for the test set)."
   ]
  },
  {
   "cell_type": "code",
   "execution_count": null,
   "metadata": {
    "_uuid": "04df1bc4240f409a5d4521c6f70c2ced44f7c3d4"
   },
   "outputs": [],
   "source": [
    "ts = time.time()\n",
    "matrix = matrix[matrix.date_block_num > 11]\n",
    "time.time() - ts"
   ]
  },
  {
   "cell_type": "markdown",
   "metadata": {
    "_uuid": "48a14784050901f878b40f093e4bc34e07ecce05"
   },
   "source": [
    "Producing lags brings a lot of nulls."
   ]
  },
  {
   "cell_type": "code",
   "execution_count": null,
   "metadata": {
    "_uuid": "8e5d8cb5cea9be28af4a0486cc1bf797e5b5c7ee"
   },
   "outputs": [],
   "source": [
    "ts = time.time()\n",
    "def fill_na(df):\n",
    "    for col in df.columns:\n",
    "        if ('_lag_' in col) & (df[col].isnull().any()):\n",
    "            if ('item_cnt' in col):\n",
    "                df[col].fillna(0, inplace=True)         \n",
    "    return df\n",
    "\n",
    "matrix = fill_na(matrix)\n",
    "time.time() - ts"
   ]
  },
  {
   "cell_type": "code",
   "execution_count": null,
   "metadata": {
    "_uuid": "00bf3fffc1b143d0555d03b9d79b5fd00d9d0dc9"
   },
   "outputs": [],
   "source": [
    "matrix.columns"
   ]
  },
  {
   "cell_type": "code",
   "execution_count": null,
   "metadata": {
    "_uuid": "5f4e4c5c552daf8d4da6999ae4b63f13459b2887"
   },
   "outputs": [],
   "source": [
    "matrix.info()"
   ]
  },
  {
   "cell_type": "code",
   "execution_count": null,
   "metadata": {
    "_uuid": "5d9988f8da8876f74092fbf827ceb6c61dd09d5e"
   },
   "outputs": [],
   "source": [
    "matrix.to_pickle('data.pkl')\n",
    "\n",
    "del matrix\n",
    "# del cache\n",
    "del lastSaleForItemAtShop, lastSaleForItem # felipap\n",
    "del group\n",
    "del items\n",
    "del shops\n",
    "del cats\n",
    "del train\n",
    "# leave test for submission\n",
    "gc.collect()"
   ]
  }
 ],
 "metadata": {
  "kernelspec": {
   "display_name": "Python 3",
   "language": "python",
   "name": "python3"
  },
  "language_info": {
   "codemirror_mode": {
    "name": "ipython",
    "version": 3
   },
   "file_extension": ".py",
   "mimetype": "text/x-python",
   "name": "python",
   "nbconvert_exporter": "python",
   "pygments_lexer": "ipython3",
   "version": "3.7.2"
  }
 },
 "nbformat": 4,
 "nbformat_minor": 2
}
